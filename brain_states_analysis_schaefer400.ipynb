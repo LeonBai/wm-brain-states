{
 "cells": [
  {
   "cell_type": "markdown",
   "metadata": {},
   "source": [
    "Brain states transitions in response to working memory training\n",
    "=================================================================="
   ]
  },
  {
   "cell_type": "markdown",
   "metadata": {},
   "source": [
    "Analyses performed by Karolina Finc & Justyna Kuk, \n",
    "*Centre for Modern interdisciplinary Technologies, Nicolaus Copernicus University in Toruń*\n",
    "\n",
    "Last edited: 08-05-2019\n",
    "\n",
    "--------------\n",
    "\n",
    "The goal of this analysis is to examine the effects of working memory training on *time-resolved brain state dynamics* examined in the trained task and the resting-state. Does working memory training affects brain state distribution in the task? \n",
    "\n",
    "We used unsupervised machine learning approach to cluster dual n-back and resting-state fMRI time-series into discrete brain states (see Chen et al., 2015; Cornblath et al., 2018). We hypothesize that:\n",
    "- The brain states fluctuation will differ after working memory training especially in the states related to default mode and frontoparietal systems activity. \n",
    "- Training-related changes in brain states dynamics will be more visible during the trained task than the resting state.\n",
    "- Individual characteristics of brain states fluctuations will be associated to individual behavioral differences in training progress.\n"
   ]
  },
  {
   "cell_type": "markdown",
   "metadata": {},
   "source": [
    "Step 1: Timeseries preparation\n",
    "----------\n",
    "\n",
    "Prior to running clustering the time-series into discrete brain stets, all timeseries were concatenated into large $N \\times P$ array containing $N$ observation and $P$ features. The length of $N$ was equal to 227040 as a result of concatenating 4 sessions of dual n-back data (340 time-points) and resting state data (305 time-points) of 44 subjects. The length of $P$ was equal 400 and represented the mean signal extracted from each brain areas of Schaefer et al. (2019) brain parcellation.\n",
    "\n",
    "By this procedure we ensured the correspondence of brain states labels across subjects, sessions and tasks.\n",
    "\n",
    "(for now, we just testing code on small subsample of dataset -- 10 subjects)"
   ]
  },
  {
   "cell_type": "code",
   "execution_count": 56,
   "metadata": {},
   "outputs": [
    {
     "name": "stdout",
     "output_type": "stream",
     "text": [
      "Original dualnback data shape: (2, 4, 340, 400)\n",
      "Original dualnback data shape: (2, 4, 305, 400)\n"
     ]
    }
   ],
   "source": [
    "import numpy as np\n",
    "\n",
    "# Loading time-series data\n",
    "ts_dualnback = np.load(\"timeseries_schaefer400_dualnback.npy\")\n",
    "ts_rest = np.load(\"timeseries_schaefer400_rest.npy\")\n",
    "\n",
    "n_sub = 2 # Select number of subjects \n",
    "ts_dualnback = ts_dualnback[:n_sub]\n",
    "ts_rest = ts_rest[:n_sub]\n",
    "\n",
    "print(f'Original dualnback data shape: {ts_dualnback.shape}')\n",
    "print(f'Original dualnback data shape: {ts_rest.shape}')"
   ]
  },
  {
   "cell_type": "code",
   "execution_count": 32,
   "metadata": {},
   "outputs": [
    {
     "name": "stdout",
     "output_type": "stream",
     "text": [
      "Shape of dualnback timeseries: (2720, 400)\n",
      "Shape of rest timeseries: (2440, 400)\n",
      "Shape of all timeseries: (5160, 400)\n"
     ]
    }
   ],
   "source": [
    "n_ses = ts_dualnback.shape[1]\n",
    "n_rois = ts_dualnback.shape[3]\n",
    "\n",
    "# Concatenating time-series\n",
    "cts_dualnback = ts_dualnback.reshape(n_sub*n_ses*ts_dualnback.shape[2], n_rois)     #all 46 subcjects in one vector\n",
    "cts_rest = ts_rest.reshape(n_sub*n_ses*ts_rest.shape[2], n_rois)\n",
    "\n",
    "# Concatenating task and rest\n",
    "cts_all = np.zeros((cts_dualnback.shape[0] + cts_rest.shape[0] , n_rois))\n",
    "cts_all[0:cts_dualnback.shape[0],:] = cts_dualnback \n",
    "cts_all[cts_dualnback.shape[0]:, :] = cts_rest\n",
    "\n",
    "print(f'Shape of dualnback timeseries: {cts_dualnback.shape}')\n",
    "print(f'Shape of rest timeseries: {cts_rest.shape}')\n",
    "print(f'Shape of all timeseries: {cts_all.shape}')"
   ]
  },
  {
   "cell_type": "markdown",
   "metadata": {},
   "source": [
    "Step 2: Clustering the timeseries into brain states\n",
    "----------------------\n",
    "\n",
    "To discover main brain states existing in time-series we performed 500 repetitions of $k$-means clustering from $k$ = 2 to $k$ = 18 using Euclidean distance as a measure of similarity. "
   ]
  },
  {
   "cell_type": "code",
   "execution_count": 49,
   "metadata": {},
   "outputs": [
    {
     "name": "stdout",
     "output_type": "stream",
     "text": [
      "Clustering for k = 2\n",
      "Clustering for k = 3\n",
      "Clustering for k = 4\n",
      "Clustering for k = 5\n",
      "Clustering for k = 6\n",
      "Clustering for k = 7\n",
      "Clustering for k = 8\n",
      "Clustering for k = 9\n",
      "Clustering for k = 10\n",
      "Clustering for k = 11\n",
      "Clustering for k = 12\n",
      "Clustering for k = 13\n",
      "Clustering for k = 14\n",
      "Clustering for k = 15\n",
      "Clustering for k = 16\n",
      "Clustering for k = 17\n",
      "Clustering for k = 18\n"
     ]
    }
   ],
   "source": [
    "from sklearn.cluster import KMeans\n",
    "from sklearn.metrics import silhouette_score\n",
    "\n",
    "max_k = 18\n",
    "brain_states = np.zeros((max_k-1,cts_all.shape[0]))\n",
    "silhouette = np.zeros((max_k-1))\n",
    "\n",
    "for k in range(max_k-1):\n",
    "    print(f'Clustering for k = {k+2}')\n",
    "    kmeans = KMeans(n_clusters=k+2, n_init=10).fit(cts_all) # Change to 500 later\n",
    "    kmeans_predict = kmeans.fit_predict(cts_all)\n",
    "    brain_states[k,:] = kmeans.labels_\n",
    "    silhouette[k] = silhouette_score(cts_all, kmeans_predict)"
   ]
  },
  {
   "cell_type": "markdown",
   "metadata": {},
   "source": [
    "Step 3: Selecting k size based on silhouette score and absent states\n",
    "-------------------------------------------------------------------------\n",
    "To identify the optimal number of clusters we use silhouette score."
   ]
  },
  {
   "cell_type": "code",
   "execution_count": 54,
   "metadata": {},
   "outputs": [
    {
     "data": {
      "image/png": "[encoded data removed]",
      "text/plain": [
       "<Figure size 432x288 with 1 Axes>"
      ]
     },
     "metadata": {
      "needs_background": "light"
     },
     "output_type": "display_data"
    }
   ],
   "source": [
    "import matplotlib.pyplot as plt\n",
    "\n",
    "plt.plot(np.arange(2,19), silhouette)\n",
    "plt.grid()\n",
    "plt.xlabel('Number of clusters')\n",
    "plt.ylabel('Silhouette score')\n",
    "plt.show()\n"
   ]
  },
  {
   "cell_type": "markdown",
   "metadata": {},
   "source": [
    "Step 4: Split-halves validation for k = 5\n",
    "-------------------------------------------------------------------------\n",
    "\n",
    "We also split our sample into two equal partitions 500 times and performed k-means clustering separately on each half of the dataset. We then matched clusters by computing the correlation between both sets of centroids, and then by reordering the clusters based on the maximum correlation value for each cluster."
   ]
  },
  {
   "cell_type": "code",
   "execution_count": null,
   "metadata": {},
   "outputs": [],
   "source": [
    "from sklearn.model_selection import train_test_split\n",
    "\n",
    "dim = int(t_vector.shape[0]/2)\n",
    "train_series = np.zeros((500,dim,264))\n",
    "test_series = np.zeros((500,dim,264))\n",
    "\n",
    "for i in range(500):\n",
    "    X_train, X_test = train_test_split(t_vector, test_size=0.5)\n",
    "    train_series[i,:,:] = X_train\n",
    "    test_series[i,:,:] = X_test"
   ]
  },
  {
   "cell_type": "code",
   "execution_count": null,
   "metadata": {},
   "outputs": [],
   "source": [
    "from sklearn.cluster import KMeans\n",
    "import pandas as pd\n",
    "from scipy.stats import pearsonr\n",
    "\n",
    "n_clusters = 6\n",
    "\n",
    "cor = np.zeros((500,n_clusters,n_clusters))\n",
    "\n",
    "for sub in range(500):\n",
    "    train_kmeans = KMeans(n_clusters=n_clusters, n_init=500).fit(train_series[sub,:,:])\n",
    "    test_kmeans = KMeans(n_clusters=n_clusters, n_init=500).fit(test_series[sub,:,:])\n",
    "    x = train_kmeans.cluster_centers_\n",
    "    y = test_kmeans.cluster_centers_\n",
    "    for k in range(n_clusters):\n",
    "        for j in range(n_clusters):\n",
    "            cor[sub,k,j] = pearsonr(x[k],y[j])[0]"
   ]
  },
  {
   "cell_type": "code",
   "execution_count": null,
   "metadata": {},
   "outputs": [],
   "source": [
    "cor_sort = np.sort(cor)\n",
    "max_values = np.zeros((500,n_clusters))\n",
    "\n",
    "for i in range(500):\n",
    "    max_values = cor_sort[i,:,-1]\n",
    "    mean_max_values = (cor_sort[i,:,-1]).mean\n"
   ]
  },
  {
   "cell_type": "code",
   "execution_count": null,
   "metadata": {},
   "outputs": [],
   "source": [
    "from nilearn import plotting\n",
    "\n",
    "num = 0\n",
    "\n",
    "print(cor_sort[num,:,-1])\n",
    "plotting.plot_matrix(cor_sort[num,:,:])"
   ]
  },
  {
   "cell_type": "markdown",
   "metadata": {},
   "source": [
    "Step 5: Correlating cluster labels with well-known large-scale networks\n",
    "-------------------------------------------------------------------------\n",
    "We calculate corralation between mean of the time-series for each cluster and modules using Pearson correlation."
   ]
  },
  {
   "cell_type": "code",
   "execution_count": 3,
   "metadata": {},
   "outputs": [],
   "source": [
    "from functions import compare\n",
    "compare(t_vector,n_clusters)"
   ]
  },
  {
   "cell_type": "markdown",
   "metadata": {},
   "source": [
    "Step 5: Calculating persistence probablilities, transition probablilities, dwell times for each subject\n",
    "-------------------------------------------------------------------------\n",
    "Description"
   ]
  },
  {
   "cell_type": "code",
   "execution_count": null,
   "metadata": {},
   "outputs": [],
   "source": [
    "#transition probabilities\n",
    "\n",
    "from nilearn import plotting\n",
    "import functions \n",
    "\n",
    "plotting.plot_matrix(functions.multiple_transition(n_clusters,t_rest).mean(axis=0), title = \"rest\")\n",
    "plotting.plot_matrix(functions.multiple_transition(n_clusters,t_nback).mean(axis=0), title = \"nback\")"
   ]
  },
  {
   "cell_type": "markdown",
   "metadata": {},
   "source": [
    "Step 6: Groups/sessions comparison\n",
    "-------------------------------------------------------------------------\n",
    "Description"
   ]
  },
  {
   "cell_type": "code",
   "execution_count": null,
   "metadata": {},
   "outputs": [],
   "source": [
    "# Code here"
   ]
  }
 ],
 "metadata": {
  "kernelspec": {
   "display_name": "Python 3",
   "language": "python",
   "name": "python3"
  },
  "language_info": {
   "codemirror_mode": {
    "name": "ipython",
    "version": 3
   },
   "file_extension": ".py",
   "mimetype": "text/x-python",
   "name": "python",
   "nbconvert_exporter": "python",
   "pygments_lexer": "ipython3",
   "version": "3.7.3"
  }
 },
 "nbformat": 4,
 "nbformat_minor": 2
}
