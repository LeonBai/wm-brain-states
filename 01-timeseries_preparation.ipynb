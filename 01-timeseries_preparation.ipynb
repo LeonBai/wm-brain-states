{
 "cells": [
  {
   "cell_type": "markdown",
   "metadata": {},
   "source": [
    "Timeseries preparation\n",
    "=========================\n",
    "\n",
    "Prior to running clustering the time-series into discrete brain states, all dual n-back task (340 time-points) and rest (340 time-points) timeseries were concatenated across subjects and sessions into $N \\times P$ arrays containing $N$ observation and $P$ features. The length of $N$ was equal to 53040 for dual n-back task and 47580 for rest. The length of $P$ was equal 400 and represented the mean signal extracted from each brain areas of Schaefer et al. (2018) brain parcellation.\n",
    "\n",
    "By this procedure we ensured the correspondence of brain states labels across subjects, sessions and tasks."
   ]
  },
  {
   "cell_type": "markdown",
   "metadata": {},
   "source": [
    "Step 1: Data reduction\n",
    "---------------------------\n",
    "\n",
    "Before running k-means clustering algorythm, subjects with high motion or missing data in at least one session were excluded from analyses."
   ]
  },
  {
   "cell_type": "code",
   "execution_count": 1,
   "metadata": {},
   "outputs": [
    {
     "name": "stdout",
     "output_type": "stream",
     "text": [
      "Number of subjects included in analyses: 39\n",
      "Original dualnback data shape: (39, 4, 340, 400)\n",
      "Original rest data shape: (39, 4, 305, 400)\n"
     ]
    }
   ],
   "source": [
    "import pandas as pd\n",
    "import numpy as np\n",
    "\n",
    "# Loading data\n",
    "data = np.load(\"./data/neuroimaging/timeseries_shaefer400_pipeline-24HMP_8Phys_SpikeReg_4GS.npy\", allow_pickle=True).item()\n",
    "\n",
    "# Removing subjects with missing data\n",
    "subjects_filter = data['subjects'][\"included_dualnback_ses-all\"] & data['subjects'][\"included_rest_ses-all\"]\n",
    "subjects_clean = data['subjects'][subjects_filter]\n",
    "\n",
    "# Filtering timeseries\n",
    "ts_dualnback = data['tasks']['dualnback']['timeseries'][subjects_filter]\n",
    "ts_rest = data['tasks']['rest']['timeseries'][subjects_filter]\n",
    "\n",
    "print(f'Number of subjects included in analyses: {np.sum(subjects_filter)}')\n",
    "print(f'Original dualnback data shape: {ts_dualnback.shape}')\n",
    "print(f'Original rest data shape: {ts_rest.shape}')"
   ]
  },
  {
   "cell_type": "markdown",
   "metadata": {},
   "source": [
    "Step 2: Concatenating time-series\n",
    "---------------------------"
   ]
  },
  {
   "cell_type": "code",
   "execution_count": 2,
   "metadata": {},
   "outputs": [
    {
     "name": "stdout",
     "output_type": "stream",
     "text": [
      "Shape of dualnback timeseries: (53040, 400)\n",
      "Shape of rest timeseries: (47580, 400)\n"
     ]
    }
   ],
   "source": [
    "# Concatenating time-series\n",
    "n_sub = ts_dualnback.shape[0]\n",
    "n_ses = ts_dualnback.shape[1]\n",
    "n_rois = ts_dualnback.shape[3]\n",
    "\n",
    "cts_dualnback = ts_dualnback.reshape(n_sub*n_ses*ts_dualnback.shape[2], n_rois)     #all 46 subcjects in one vector\n",
    "cts_rest = ts_rest.reshape(n_sub*n_ses*ts_rest.shape[2], n_rois)\n",
    "\n",
    "# Updating dictionary with the data\n",
    "data_concat_timeseries = data.copy()\n",
    "data_concat_timeseries['tasks']['dualnback']['timeseries'] = cts_dualnback\n",
    "data_concat_timeseries['tasks']['rest']['timeseries'] = cts_rest\n",
    "data_concat_timeseries['subjects'] = subjects_clean\n",
    "filename = 'concat_' + data['filename']\n",
    "data_concat_timeseries['filename'] = filename\n",
    "\n",
    "np.save(f\"./data/neuroimaging/{filename}.npy\", data_concat_timeseries)\n",
    "\n",
    "print(f\"Shape of dualnback timeseries: {cts_dualnback.shape}\")\n",
    "print(f\"Shape of rest timeseries: {cts_rest.shape}\")"
   ]
  }
 ],
 "metadata": {
  "kernelspec": {
   "display_name": "Python 3",
   "language": "python",
   "name": "python3"
  },
  "language_info": {
   "codemirror_mode": {
    "name": "ipython",
    "version": 3
   },
   "file_extension": ".py",
   "mimetype": "text/x-python",
   "name": "python",
   "nbconvert_exporter": "python",
   "pygments_lexer": "ipython3",
   "version": "3.7.3"
  }
 },
 "nbformat": 4,
 "nbformat_minor": 2
}
